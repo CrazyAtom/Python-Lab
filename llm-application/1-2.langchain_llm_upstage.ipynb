{
 "cells": [
  {
   "cell_type": "code",
   "execution_count": 2,
   "metadata": {},
   "outputs": [
    {
     "data": {
      "text/plain": [
       "True"
      ]
     },
     "execution_count": 2,
     "metadata": {},
     "output_type": "execute_result"
    }
   ],
   "source": [
    "from dotenv import load_dotenv\n",
    "\n",
    "load_dotenv()"
   ]
  },
  {
   "cell_type": "code",
   "execution_count": 3,
   "metadata": {},
   "outputs": [],
   "source": [
    "from langchain_upstage import ChatUpstage\n",
    "\n",
    "llm = ChatUpstage()"
   ]
  },
  {
   "cell_type": "code",
   "execution_count": 4,
   "metadata": {},
   "outputs": [],
   "source": [
    "ai_msg = llm.invoke(\"인프런에는 어떤 강의들이 있어?\")"
   ]
  },
  {
   "cell_type": "code",
   "execution_count": 5,
   "metadata": {},
   "outputs": [
    {
     "data": {
      "text/plain": [
       "'인프런에는 다양한 분야의 강의들이 있습니다. 주요 카테고리는 다음과 같습니다:\\n\\n1. 프로그래밍: Python, Java, JavaScript, Ruby 등 다양한 프로그래밍 언어와 함께 웹 개발, 알고리즘, 데이터 구조 등을 다룹니다.\\n2. 데이터 사이언스: Python을 활용한 데이터 분석, 머신러닝, 딥러닝, 데이터 시각화 등의 강의가 있습니다.\\n3. 클라우드 컴퓨팅: AWS, Google Cloud, Microsoft Azure 등의 클라우드 플랫폼에 대한 강의가 있습니다.\\n4. 경영 및 비즈니스: 경영 전략, 마케팅, 재무, 회계 등의 비즈니스 관련 주제가 다루어집니다.\\n5. 디자인: UI/UX 디자인, 그래픽 디자인, 웹 디자인 등 다양한 디자인 관련 강의가 있습니다.\\n6. 창업 및 마케팅: 창업에 필요한 지식과 기술, 디지털 마케팅, SEO, SNS 마케팅 등을 다룹니다.\\n7. 실무 스킬: 엑셀, 파워포인트, 문서 작성 등 업무에 필요한 실용적인 스킬을 향상시킬 수 있는 강의가 있습니다.\\n8. 외국어: 영어, 일본어, 중국어 등 다양한 외국어 강의가 있습니다.\\n9. 기타: 사진, 음악, 취미 등 다양한 관심 분야에 대한 강의도 제공됩니다.\\n\\n이 외에도 다양한 주제와 수준별 강의가 제공되고 있으며, 실무 중심의 강의가 많아 실전적인 학습이 가능합니다.'"
      ]
     },
     "execution_count": 5,
     "metadata": {},
     "output_type": "execute_result"
    }
   ],
   "source": [
    "ai_msg.content"
   ]
  },
  {
   "cell_type": "code",
   "execution_count": null,
   "metadata": {},
   "outputs": [],
   "source": []
  }
 ],
 "metadata": {
  "kernelspec": {
   "display_name": "llm-application",
   "language": "python",
   "name": "python3"
  },
  "language_info": {
   "codemirror_mode": {
    "name": "ipython",
    "version": 3
   },
   "file_extension": ".py",
   "mimetype": "text/x-python",
   "name": "python",
   "nbconvert_exporter": "python",
   "pygments_lexer": "ipython3",
   "version": "3.11.11"
  }
 },
 "nbformat": 4,
 "nbformat_minor": 2
}
